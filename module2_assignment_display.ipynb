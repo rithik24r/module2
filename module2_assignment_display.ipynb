{
  "nbformat": 4,
  "nbformat_minor": 0,
  "metadata": {
    "colab": {
      "name": "Welcome To Colaboratory",
      "provenance": [],
      "collapsed_sections": [],
      "toc_visible": true
    },
    "kernelspec": {
      "display_name": "Python 3",
      "name": "python3"
    }
  },
  "cells": [
    {
      "cell_type": "code",
      "metadata": {
        "id": "U7d6WrSnY2PC",
        "colab_type": "code",
        "colab": {
          "base_uri": "https://localhost:8080/",
          "height": 35
        },
        "outputId": "27bb099c-9655-4150-be3f-e2da109c7617"
      },
      "source": [
        "#two number s equal or not\n",
        "a=10\n",
        "b=10\n",
        "if(a==b):\n",
        "       print(\"a is equal to b\")\n",
        "else:\n",
        "      print(\"a is not equal to b\")   "
      ],
      "execution_count": 24,
      "outputs": [
        {
          "output_type": "stream",
          "text": [
            "a is equal to b\n"
          ],
          "name": "stdout"
        }
      ]
    },
    {
      "cell_type": "code",
      "metadata": {
        "id": "E-aQUTQ4ZC8A",
        "colab_type": "code",
        "colab": {
          "base_uri": "https://localhost:8080/",
          "height": 35
        },
        "outputId": "181b84ce-93e2-4bbc-9605-50c76dd4c606"
      },
      "source": [
        "#3 numbers equal or not using and\n",
        "a=10\n",
        "b=10\n",
        "c=10\n",
        "if(a==b) and (b==c):\n",
        "       print(\"a,b and c are equal\")\n",
        "else:\n",
        "       print(\"a,b and c are not equal\")"
      ],
      "execution_count": 25,
      "outputs": [
        {
          "output_type": "stream",
          "text": [
            "a,b and c are equal\n"
          ],
          "name": "stdout"
        }
      ]
    },
    {
      "cell_type": "code",
      "metadata": {
        "id": "F1LsPvZVZg06",
        "colab_type": "code",
        "colab": {
          "base_uri": "https://localhost:8080/",
          "height": 35
        },
        "outputId": "cb6c8687-d580-480f-e509-95a978c2da08"
      },
      "source": [
        "#marks\n",
        "sub1=90\n",
        "sub2=36\n",
        "sub3=75\n",
        "if(sub1>35) and (sub2>35) and (sub3>35):\n",
        "    print(\"marks are greater than 35\")\n",
        "else:\n",
        "     print(\"marks are less than 35\")"
      ],
      "execution_count": 27,
      "outputs": [
        {
          "output_type": "stream",
          "text": [
            "marks are greater than 35\n"
          ],
          "name": "stdout"
        }
      ]
    },
    {
      "cell_type": "code",
      "metadata": {
        "id": "Lw3uWfrnaGwD",
        "colab_type": "code",
        "colab": {
          "base_uri": "https://localhost:8080/",
          "height": 35
        },
        "outputId": "1222c057-f76b-49d0-b50b-f5156595960f"
      },
      "source": [
        "# sum greater,less or equal to 5\n",
        "a=3\n",
        "b=2\n",
        "if(a+b>5):\n",
        "         print(\"sum is greater than 5\")\n",
        "elif(a+b<5):\n",
        "         print(\"sum is less than 5\")\n",
        "else:\n",
        "          print(\"sum is equal to 5\") "
      ],
      "execution_count": 28,
      "outputs": [
        {
          "output_type": "stream",
          "text": [
            "sum is equal to 5\n"
          ],
          "name": "stdout"
        }
      ]
    },
    {
      "cell_type": "code",
      "metadata": {
        "id": "B1kBWt0eagza",
        "colab_type": "code",
        "colab": {
          "base_uri": "https://localhost:8080/",
          "height": 35
        },
        "outputId": "c207fa34-e29b-4878-e8c8-0bd1269a6551"
      },
      "source": [
        "# max of three numbers\n",
        "a=1\n",
        "b=2\n",
        "c=3\n",
        "if(a>b):\n",
        "       print(\"a is greater\")\n",
        "elif(b>c):\n",
        "       print(\"b is greater\")\n",
        "else:\n",
        "      print(\"c is greater\")"
      ],
      "execution_count": 29,
      "outputs": [
        {
          "output_type": "stream",
          "text": [
            "c is greater\n"
          ],
          "name": "stdout"
        }
      ]
    }
  ]
}